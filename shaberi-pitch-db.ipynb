{
 "cells": [
  {
   "cell_type": "markdown",
   "id": "c6d1630c",
   "metadata": {},
   "source": [
    "# A notebook for cleaning up pitch data\n",
    "### sources\n",
    "1. Kishimoto's\n",
    "2. NHK\n",
    "3. Wadoku?"
   ]
  },
  {
   "cell_type": "code",
   "execution_count": 9,
   "id": "96718efd",
   "metadata": {},
   "outputs": [],
   "source": [
    "# %ls -la\n",
    "# %lsmagic"
   ]
  },
  {
   "cell_type": "code",
   "execution_count": 14,
   "id": "084f6f14",
   "metadata": {},
   "outputs": [
    {
     "data": {
      "text/html": [
       "<div>\n",
       "<style scoped>\n",
       "    .dataframe tbody tr th:only-of-type {\n",
       "        vertical-align: middle;\n",
       "    }\n",
       "\n",
       "    .dataframe tbody tr th {\n",
       "        vertical-align: top;\n",
       "    }\n",
       "\n",
       "    .dataframe thead th {\n",
       "        text-align: right;\n",
       "    }\n",
       "</style>\n",
       "<table border=\"1\" class=\"dataframe\">\n",
       "  <thead>\n",
       "    <tr style=\"text-align: right;\">\n",
       "      <th></th>\n",
       "      <th>0</th>\n",
       "      <th>1</th>\n",
       "      <th>2</th>\n",
       "      <th>3</th>\n",
       "      <th>4</th>\n",
       "    </tr>\n",
       "  </thead>\n",
       "  <tbody>\n",
       "    <tr>\n",
       "      <th>0</th>\n",
       "      <td>-0.059796</td>\n",
       "      <td>-1.196227</td>\n",
       "      <td>0.526140</td>\n",
       "      <td>-0.139966</td>\n",
       "      <td>0.302830</td>\n",
       "    </tr>\n",
       "    <tr>\n",
       "      <th>1</th>\n",
       "      <td>0.088032</td>\n",
       "      <td>-1.099832</td>\n",
       "      <td>-0.364072</td>\n",
       "      <td>-1.269601</td>\n",
       "      <td>-0.040648</td>\n",
       "    </tr>\n",
       "    <tr>\n",
       "      <th>2</th>\n",
       "      <td>0.142787</td>\n",
       "      <td>0.145549</td>\n",
       "      <td>1.001644</td>\n",
       "      <td>0.612252</td>\n",
       "      <td>0.753116</td>\n",
       "    </tr>\n",
       "    <tr>\n",
       "      <th>3</th>\n",
       "      <td>-0.730892</td>\n",
       "      <td>-0.460382</td>\n",
       "      <td>-1.396289</td>\n",
       "      <td>0.909458</td>\n",
       "      <td>1.355108</td>\n",
       "    </tr>\n",
       "    <tr>\n",
       "      <th>4</th>\n",
       "      <td>-0.229974</td>\n",
       "      <td>-0.970496</td>\n",
       "      <td>-0.495748</td>\n",
       "      <td>-0.367059</td>\n",
       "      <td>0.612684</td>\n",
       "    </tr>\n",
       "  </tbody>\n",
       "</table>\n",
       "</div>"
      ],
      "text/plain": [
       "          0         1         2         3         4\n",
       "0 -0.059796 -1.196227  0.526140 -0.139966  0.302830\n",
       "1  0.088032 -1.099832 -0.364072 -1.269601 -0.040648\n",
       "2  0.142787  0.145549  1.001644  0.612252  0.753116\n",
       "3 -0.730892 -0.460382 -1.396289  0.909458  1.355108\n",
       "4 -0.229974 -0.970496 -0.495748 -0.367059  0.612684"
      ]
     },
     "execution_count": 14,
     "metadata": {},
     "output_type": "execute_result"
    }
   ],
   "source": [
    "# Some experiment\n",
    "\n",
    "import pandas as pd\n",
    "import numpy as np\n",
    "\n",
    "df = pd.DataFrame(np.random.randn(10,5))\n",
    "df.head()"
   ]
  },
  {
   "cell_type": "markdown",
   "id": "c46072de",
   "metadata": {},
   "source": [
    "### Installation"
   ]
  },
  {
   "cell_type": "code",
   "execution_count": 28,
   "id": "888f48d8",
   "metadata": {},
   "outputs": [
    {
     "name": "stdout",
     "output_type": "stream",
     "text": [
      "zsh:1: command not found: jt\r\n"
     ]
    }
   ],
   "source": [
    "# !pip install pykakasi\n",
    "# !pip install pandas\n",
    "# !pip install numpy\n",
    "# !pip install jupyterthemes\n",
    "\n",
    "# You can get the list of available themes with:\n",
    "!jt -l\n",
    "\n",
    "#So change your theme with:\n",
    "# jt -t theme-name"
   ]
  },
  {
   "cell_type": "code",
   "execution_count": null,
   "id": "1aa585f4",
   "metadata": {},
   "outputs": [],
   "source": [
    "import pykakasi\n",
    "kks = pykakasi.kakasi()\n",
    "text = \"アーラーメンオンスーリツ\"\n",
    "result = kks.convert(text)\n",
    "print(result)\n",
    "for item in result:\n",
    "    print(\"{}: kana '{}', hiragana '{}', romaji: '{}'\".format(item['orig'], item['kana'], item['hira'], item['hepburn']))\n",
    "            \n"
   ]
  },
  {
   "cell_type": "code",
   "execution_count": 16,
   "id": "9b62beb1",
   "metadata": {},
   "outputs": [],
   "source": [
    "import csv \n",
    "import json"
   ]
  },
  {
   "cell_type": "markdown",
   "id": "6751dcc4",
   "metadata": {},
   "source": [
    "### Cleanup kishimoto"
   ]
  },
  {
   "cell_type": "markdown",
   "id": "4fd79abe",
   "metadata": {},
   "source": [
    "### Constants"
   ]
  },
  {
   "cell_type": "code",
   "execution_count": 21,
   "id": "b23a84af",
   "metadata": {},
   "outputs": [],
   "source": [
    "kishimotoPath = 'assets/input/kishimoto.csv'\n",
    "nhkPath = 'assets/input/nhk.csv'\n",
    "\n",
    "outputCsvPath = \"assets/output/output.csv\"\n",
    "outputJsonPath = \"assets/output/output.json\""
   ]
  },
  {
   "cell_type": "code",
   "execution_count": 22,
   "id": "20cc9dee",
   "metadata": {},
   "outputs": [
    {
     "name": "stdout",
     "output_type": "stream",
     "text": [
      "Number of null values: 27\n"
     ]
    }
   ],
   "source": [
    "def cleanKishimoto(csvFilePath):\n",
    "    nullCount = 0  # Counter for null values\n",
    "      \n",
    "    #read csv file\n",
    "    with open(csvFilePath, encoding='utf-8') as csvf: \n",
    "        #load csv file data using csv library's dictionary reader\n",
    "        csvReader = csv.DictReader(csvf) \n",
    "\n",
    "        #convert each csv row into python dict\n",
    "        for row in csvReader:\n",
    "            # Exclude the \"image\" column\n",
    "            del row[\"image\"]\n",
    "            \n",
    "            # Check and replace empty cells with None\n",
    "            for key, value in row.items():\n",
    "                if not value:\n",
    "                    row[key] = None\n",
    "                    nullCount += 1\n",
    "            \n",
    "            if(row[\"accent\"]):\n",
    "                row[\"accent\"] = int(row[\"accent\"])  # Convert accent to integer\n",
    "            if (row[\"morae\"]):\n",
    "                row[\"morae\"] = int(row[\"morae\"])  # Convert morae to integer\n",
    "            \n",
    "            #add this python dict to json array\n",
    "\n",
    "        print(\"Number of null values:\", nullCount)\n",
    "  \n",
    "\n",
    "cleanKishimoto(kishimotoPath)\n"
   ]
  },
  {
   "cell_type": "markdown",
   "id": "8ee57e5b",
   "metadata": {},
   "source": [
    "### Clean NHK"
   ]
  },
  {
   "cell_type": "code",
   "execution_count": 23,
   "id": "47cc668c",
   "metadata": {},
   "outputs": [
    {
     "name": "stdout",
     "output_type": "stream",
     "text": [
      "Number of null values: 189103\n"
     ]
    }
   ],
   "source": [
    "\n",
    "def cleanNHK(csvFilePath):\n",
    "    nullCount = 0  # Counter for null values\n",
    "      \n",
    "    #read csv file\n",
    "    with open(csvFilePath, encoding='utf-8') as csvf: \n",
    "        #load csv file data using csv library's dictionary reader\n",
    "        csvReader = csv.DictReader(csvf) \n",
    "\n",
    "        #convert each csv row into python dict\n",
    "        for row in csvReader:\n",
    "            # Exclude the \"image\" column\n",
    "#             del row[\"image\"]\n",
    "            \n",
    "            # Check and replace empty cells with None\n",
    "            for key, value in row.items():\n",
    "                if not value:\n",
    "                    row[key] = None\n",
    "                    nullCount += 1\n",
    "            \n",
    "            if(row[\"accent\"]):\n",
    "                row[\"accent\"] = int(row[\"accent\"])  # Convert accent to integer\n",
    "            if (row[\"morae\"]):\n",
    "                row[\"morae\"] = int(row[\"morae\"])  # Convert morae to integer\n",
    "            \n",
    "            #add this python dict to json array\n",
    "\n",
    "        print(\"Number of null values:\", nullCount)\n",
    "  \n",
    "\n",
    "cleanNHK(nhkPath)\n",
    "\n"
   ]
  },
  {
   "cell_type": "markdown",
   "id": "c977bf6f",
   "metadata": {},
   "source": [
    "### Combine tables"
   ]
  },
  {
   "cell_type": "code",
   "execution_count": null,
   "id": "e926840f",
   "metadata": {},
   "outputs": [],
   "source": [
    "import pandas as pd\n",
    "\n",
    "kishimotoTable = r'../input/pitchdb/ja_pitch_accents(kichimoto) - ja_pitch_accents.csv'\n",
    "nhkTable = r'../input/nhk-pitch-3/nhk.csv'\n",
    "combinedTable = r'/kaggle/working/combined.csv'\n",
    "\n",
    "\n",
    "# Load the data from the first table\n",
    "df1 = pd.read_csv(kishimotoTable)\n",
    "\n",
    "# Load the data from the second table\n",
    "df2 = pd.read_csv(nhkTable)\n",
    "\n",
    "# Select the desired columns from each table\n",
    "df1_selected = df1[['id', 'word', 'kana', 'accent', 'morae']]\n",
    "df2_selected = df2[['id', 'word', 'kana', 'accent', 'morae']]\n",
    "\n",
    "# Concatenate the two tables vertically\n",
    "combined_df = pd.concat([df1_selected, df2_selected], ignore_index=True)\n",
    "\n",
    "# Drop duplicates based on 'word' and 'kana' columns\n",
    "combined_df.drop_duplicates(subset=['word', 'kana'], keep='first', inplace=True)\n",
    "\n",
    "# Generate the 'id' column starting from 1 and incrementing by 1\n",
    "combined_df['id'] = combined_df.index + 1\n",
    "\n",
    "# Convert 'morae' column to integers\n",
    "combined_df['morae'] = combined_df['morae'].astype(int)\n",
    "\n",
    "# Save the new table to a CSV file\n",
    "combined_df.to_csv(combinedTable, index=False) \n"
   ]
  },
  {
   "cell_type": "markdown",
   "id": "2e30190e",
   "metadata": {},
   "source": [
    "### Convert CSV to JSON"
   ]
  },
  {
   "cell_type": "code",
   "execution_count": null,
   "id": "6f447599",
   "metadata": {},
   "outputs": [],
   "source": [
    "import csv \n",
    "import json\n",
    "\n",
    "\n",
    "def csv_to_json(csvFilePath, jsonFilePath):\n",
    "    jsonArray = []\n",
    "    nullCount = 0  # Counter for null values\n",
    "      \n",
    "    #read csv file\n",
    "    with open(csvFilePath, encoding='utf-8') as csvf: \n",
    "        #load csv file data using csv library's dictionary reader\n",
    "        csvReader = csv.DictReader(csvf) \n",
    "\n",
    "        #convert each csv row into python dict\n",
    "        for row in csvReader:\n",
    "            # Exclude the \"image\" column\n",
    "            del row[\"image\"]\n",
    "            \n",
    "            # Check and replace empty cells with None\n",
    "            for key, value in row.items():\n",
    "                if not value:\n",
    "                    row[key] = None\n",
    "                    nullCount += 1\n",
    "            \n",
    "            if(row[\"accent\"]):\n",
    "                row[\"accent\"] = int(row[\"accent\"])  # Convert accent to integer\n",
    "            if (row[\"morae\"]):\n",
    "                row[\"morae\"] = int(row[\"morae\"])  # Convert morae to integer\n",
    "            \n",
    "            #add this python dict to json array\n",
    "            jsonArray.append(row)\n",
    "    print(\"Number of null values:\", nullCount)\n",
    "  \n",
    "    #convert python jsonArray to JSON String and write to file\n",
    "    with open(jsonFilePath, 'w', encoding='utf-8') as jsonf: \n",
    "        jsonString = json.dumps(jsonArray, indent=4,  ensure_ascii=False)\n",
    "        jsonf.write(jsonString)\n",
    "\n",
    "\n",
    "csvFilePath = r'../input/pitchdb/ja_pitch_accents(kichimoto) - ja_pitch_accents.csv'\n",
    "jsonFilePath = r'/kaggle/working/output.json'\n",
    "csv_to_json(csvFilePath, jsonFilePath)\n",
    "\n"
   ]
  }
 ],
 "metadata": {
  "kernelspec": {
   "display_name": "Python 3 (ipykernel)",
   "language": "python",
   "name": "python3"
  },
  "language_info": {
   "codemirror_mode": {
    "name": "ipython",
    "version": 3
   },
   "file_extension": ".py",
   "mimetype": "text/x-python",
   "name": "python",
   "nbconvert_exporter": "python",
   "pygments_lexer": "ipython3",
   "version": "3.7.15"
  }
 },
 "nbformat": 4,
 "nbformat_minor": 5
}
